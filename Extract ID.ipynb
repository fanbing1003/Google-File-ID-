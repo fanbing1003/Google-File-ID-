{
 "cells": [
  {
   "cell_type": "code",
   "execution_count": null,
   "id": "4477b786",
   "metadata": {},
   "outputs": [],
   "source": [
    "import openpyxl"
   ]
  },
  {
   "cell_type": "code",
   "execution_count": null,
   "id": "ec3b8070",
   "metadata": {},
   "outputs": [],
   "source": [
    "wb = openpyxl.load_workbook('Script.xlsx')"
   ]
  },
  {
   "cell_type": "code",
   "execution_count": null,
   "id": "0f4e8f3d",
   "metadata": {},
   "outputs": [],
   "source": [
    "print(wb.sheetnames)"
   ]
  },
  {
   "cell_type": "code",
   "execution_count": null,
   "id": "bbe52799",
   "metadata": {},
   "outputs": [],
   "source": [
    "# Use the previous cell to check the sheet name adn select the one you need.\n",
    "# Normally, it is the first one\n",
    "ws = wb['SheetName']"
   ]
  },
  {
   "cell_type": "code",
   "execution_count": null,
   "id": "54c35cc2",
   "metadata": {},
   "outputs": [],
   "source": [
    "# Make sure you edit the range\n",
    "ID_dic = {}\n",
    "for i in range(1, 'Number of the row'):\n",
    "    text = ws.cell(i, 1).value\n",
    "    start = text.find('/d/') + 3\n",
    "    end = text.find('/view')\n",
    "    ID = text[start:end]\n",
    "    name = text[text.find(',') + 2: -2]\n",
    "    ID_dic[name] = ID"
   ]
  }
 ],
 "metadata": {
  "kernelspec": {
   "display_name": "Python 3 (ipykernel)",
   "language": "python",
   "name": "python3"
  },
  "language_info": {
   "codemirror_mode": {
    "name": "ipython",
    "version": 3
   },
   "file_extension": ".py",
   "mimetype": "text/x-python",
   "name": "python",
   "nbconvert_exporter": "python",
   "pygments_lexer": "ipython3",
   "version": "3.9.13"
  }
 },
 "nbformat": 4,
 "nbformat_minor": 5
}
